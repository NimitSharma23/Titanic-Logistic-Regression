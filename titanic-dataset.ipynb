{
 "cells": [
  {
   "cell_type": "code",
   "execution_count": 1,
   "id": "06cd3d43",
   "metadata": {
    "_cell_guid": "b1076dfc-b9ad-4769-8c92-a6c4dae69d19",
    "_uuid": "8f2839f25d086af736a60e9eeb907d3b93b6e0e5",
    "execution": {
     "iopub.execute_input": "2022-12-28T17:49:57.181518Z",
     "iopub.status.busy": "2022-12-28T17:49:57.180166Z",
     "iopub.status.idle": "2022-12-28T17:49:57.199052Z",
     "shell.execute_reply": "2022-12-28T17:49:57.197830Z"
    },
    "papermill": {
     "duration": 0.03764,
     "end_time": "2022-12-28T17:49:57.201744",
     "exception": false,
     "start_time": "2022-12-28T17:49:57.164104",
     "status": "completed"
    },
    "tags": []
   },
   "outputs": [
    {
     "name": "stdout",
     "output_type": "stream",
     "text": [
      "/kaggle/input/titanic/train.csv\n",
      "/kaggle/input/titanic/test.csv\n",
      "/kaggle/input/titanic/gender_submission.csv\n"
     ]
    }
   ],
   "source": [
    "# This Python 3 environment comes with many helpful analytics libraries installed\n",
    "# It is defined by the kaggle/python Docker image: https://github.com/kaggle/docker-python\n",
    "# For example, here's several helpful packages to load\n",
    "\n",
    "import numpy as np # linear algebra\n",
    "import pandas as pd # data processing, CSV file I/O (e.g. pd.read_csv)\n",
    "\n",
    "# Input data files are available in the read-only \"../input/\" directory\n",
    "# For example, running this (by clicking run or pressing Shift+Enter) will list all files under the input directory\n",
    "\n",
    "import os\n",
    "for dirname, _, filenames in os.walk('/kaggle/input'):\n",
    "    for filename in filenames:\n",
    "        print(os.path.join(dirname, filename))\n",
    "\n",
    "# You can write up to 20GB to the current directory (/kaggle/working/) that gets preserved as output when you create a version using \"Save & Run All\" \n",
    "# You can also write temporary files to /kaggle/temp/, but they won't be saved outside of the current session"
   ]
  },
  {
   "cell_type": "code",
   "execution_count": 2,
   "id": "63b783cd",
   "metadata": {
    "execution": {
     "iopub.execute_input": "2022-12-28T17:49:57.231496Z",
     "iopub.status.busy": "2022-12-28T17:49:57.230698Z",
     "iopub.status.idle": "2022-12-28T17:49:58.428121Z",
     "shell.execute_reply": "2022-12-28T17:49:58.427088Z"
    },
    "papermill": {
     "duration": 1.216076,
     "end_time": "2022-12-28T17:49:58.430765",
     "exception": false,
     "start_time": "2022-12-28T17:49:57.214689",
     "status": "completed"
    },
    "tags": []
   },
   "outputs": [],
   "source": [
    "import matplotlib.pyplot as plt\n",
    "import seaborn as sns\n",
    "%matplotlib inline"
   ]
  },
  {
   "cell_type": "code",
   "execution_count": 3,
   "id": "e8f76644",
   "metadata": {
    "execution": {
     "iopub.execute_input": "2022-12-28T17:49:58.459384Z",
     "iopub.status.busy": "2022-12-28T17:49:58.458353Z",
     "iopub.status.idle": "2022-12-28T17:49:58.482608Z",
     "shell.execute_reply": "2022-12-28T17:49:58.481474Z"
    },
    "papermill": {
     "duration": 0.041637,
     "end_time": "2022-12-28T17:49:58.485360",
     "exception": false,
     "start_time": "2022-12-28T17:49:58.443723",
     "status": "completed"
    },
    "tags": []
   },
   "outputs": [],
   "source": [
    "train = pd.read_csv('/kaggle/input/titanic/train.csv')"
   ]
  },
  {
   "cell_type": "code",
   "execution_count": 4,
   "id": "3b883ed3",
   "metadata": {
    "execution": {
     "iopub.execute_input": "2022-12-28T17:49:58.513326Z",
     "iopub.status.busy": "2022-12-28T17:49:58.512925Z",
     "iopub.status.idle": "2022-12-28T17:49:58.524672Z",
     "shell.execute_reply": "2022-12-28T17:49:58.523470Z"
    },
    "papermill": {
     "duration": 0.028641,
     "end_time": "2022-12-28T17:49:58.527478",
     "exception": false,
     "start_time": "2022-12-28T17:49:58.498837",
     "status": "completed"
    },
    "tags": []
   },
   "outputs": [],
   "source": [
    "test = pd.read_csv('/kaggle/input/titanic/test.csv')"
   ]
  },
  {
   "cell_type": "code",
   "execution_count": 5,
   "id": "d0f97519",
   "metadata": {
    "execution": {
     "iopub.execute_input": "2022-12-28T17:49:58.554916Z",
     "iopub.status.busy": "2022-12-28T17:49:58.554487Z",
     "iopub.status.idle": "2022-12-28T17:49:58.579844Z",
     "shell.execute_reply": "2022-12-28T17:49:58.578524Z"
    },
    "papermill": {
     "duration": 0.041663,
     "end_time": "2022-12-28T17:49:58.582270",
     "exception": false,
     "start_time": "2022-12-28T17:49:58.540607",
     "status": "completed"
    },
    "tags": []
   },
   "outputs": [
    {
     "data": {
      "text/html": [
       "<div>\n",
       "<style scoped>\n",
       "    .dataframe tbody tr th:only-of-type {\n",
       "        vertical-align: middle;\n",
       "    }\n",
       "\n",
       "    .dataframe tbody tr th {\n",
       "        vertical-align: top;\n",
       "    }\n",
       "\n",
       "    .dataframe thead th {\n",
       "        text-align: right;\n",
       "    }\n",
       "</style>\n",
       "<table border=\"1\" class=\"dataframe\">\n",
       "  <thead>\n",
       "    <tr style=\"text-align: right;\">\n",
       "      <th></th>\n",
       "      <th>PassengerId</th>\n",
       "      <th>Survived</th>\n",
       "      <th>Pclass</th>\n",
       "      <th>Name</th>\n",
       "      <th>Sex</th>\n",
       "      <th>Age</th>\n",
       "      <th>SibSp</th>\n",
       "      <th>Parch</th>\n",
       "      <th>Ticket</th>\n",
       "      <th>Fare</th>\n",
       "      <th>Cabin</th>\n",
       "      <th>Embarked</th>\n",
       "    </tr>\n",
       "  </thead>\n",
       "  <tbody>\n",
       "    <tr>\n",
       "      <th>0</th>\n",
       "      <td>1</td>\n",
       "      <td>0</td>\n",
       "      <td>3</td>\n",
       "      <td>Braund, Mr. Owen Harris</td>\n",
       "      <td>male</td>\n",
       "      <td>22.0</td>\n",
       "      <td>1</td>\n",
       "      <td>0</td>\n",
       "      <td>A/5 21171</td>\n",
       "      <td>7.2500</td>\n",
       "      <td>NaN</td>\n",
       "      <td>S</td>\n",
       "    </tr>\n",
       "    <tr>\n",
       "      <th>1</th>\n",
       "      <td>2</td>\n",
       "      <td>1</td>\n",
       "      <td>1</td>\n",
       "      <td>Cumings, Mrs. John Bradley (Florence Briggs Th...</td>\n",
       "      <td>female</td>\n",
       "      <td>38.0</td>\n",
       "      <td>1</td>\n",
       "      <td>0</td>\n",
       "      <td>PC 17599</td>\n",
       "      <td>71.2833</td>\n",
       "      <td>C85</td>\n",
       "      <td>C</td>\n",
       "    </tr>\n",
       "    <tr>\n",
       "      <th>2</th>\n",
       "      <td>3</td>\n",
       "      <td>1</td>\n",
       "      <td>3</td>\n",
       "      <td>Heikkinen, Miss. Laina</td>\n",
       "      <td>female</td>\n",
       "      <td>26.0</td>\n",
       "      <td>0</td>\n",
       "      <td>0</td>\n",
       "      <td>STON/O2. 3101282</td>\n",
       "      <td>7.9250</td>\n",
       "      <td>NaN</td>\n",
       "      <td>S</td>\n",
       "    </tr>\n",
       "    <tr>\n",
       "      <th>3</th>\n",
       "      <td>4</td>\n",
       "      <td>1</td>\n",
       "      <td>1</td>\n",
       "      <td>Futrelle, Mrs. Jacques Heath (Lily May Peel)</td>\n",
       "      <td>female</td>\n",
       "      <td>35.0</td>\n",
       "      <td>1</td>\n",
       "      <td>0</td>\n",
       "      <td>113803</td>\n",
       "      <td>53.1000</td>\n",
       "      <td>C123</td>\n",
       "      <td>S</td>\n",
       "    </tr>\n",
       "    <tr>\n",
       "      <th>4</th>\n",
       "      <td>5</td>\n",
       "      <td>0</td>\n",
       "      <td>3</td>\n",
       "      <td>Allen, Mr. William Henry</td>\n",
       "      <td>male</td>\n",
       "      <td>35.0</td>\n",
       "      <td>0</td>\n",
       "      <td>0</td>\n",
       "      <td>373450</td>\n",
       "      <td>8.0500</td>\n",
       "      <td>NaN</td>\n",
       "      <td>S</td>\n",
       "    </tr>\n",
       "  </tbody>\n",
       "</table>\n",
       "</div>"
      ],
      "text/plain": [
       "   PassengerId  Survived  Pclass  \\\n",
       "0            1         0       3   \n",
       "1            2         1       1   \n",
       "2            3         1       3   \n",
       "3            4         1       1   \n",
       "4            5         0       3   \n",
       "\n",
       "                                                Name     Sex   Age  SibSp  \\\n",
       "0                            Braund, Mr. Owen Harris    male  22.0      1   \n",
       "1  Cumings, Mrs. John Bradley (Florence Briggs Th...  female  38.0      1   \n",
       "2                             Heikkinen, Miss. Laina  female  26.0      0   \n",
       "3       Futrelle, Mrs. Jacques Heath (Lily May Peel)  female  35.0      1   \n",
       "4                           Allen, Mr. William Henry    male  35.0      0   \n",
       "\n",
       "   Parch            Ticket     Fare Cabin Embarked  \n",
       "0      0         A/5 21171   7.2500   NaN        S  \n",
       "1      0          PC 17599  71.2833   C85        C  \n",
       "2      0  STON/O2. 3101282   7.9250   NaN        S  \n",
       "3      0            113803  53.1000  C123        S  \n",
       "4      0            373450   8.0500   NaN        S  "
      ]
     },
     "execution_count": 5,
     "metadata": {},
     "output_type": "execute_result"
    }
   ],
   "source": [
    "train.head()"
   ]
  },
  {
   "cell_type": "markdown",
   "id": "b73ef06d",
   "metadata": {
    "papermill": {
     "duration": 0.01261,
     "end_time": "2022-12-28T17:49:58.608681",
     "exception": false,
     "start_time": "2022-12-28T17:49:58.596071",
     "status": "completed"
    },
    "tags": []
   },
   "source": [
    "# Exploratory Data Analysis\n"
   ]
  },
  {
   "cell_type": "code",
   "execution_count": 6,
   "id": "9c44d4c5",
   "metadata": {
    "execution": {
     "iopub.execute_input": "2022-12-28T17:49:58.637306Z",
     "iopub.status.busy": "2022-12-28T17:49:58.636940Z",
     "iopub.status.idle": "2022-12-28T17:49:58.829610Z",
     "shell.execute_reply": "2022-12-28T17:49:58.827515Z"
    },
    "papermill": {
     "duration": 0.212911,
     "end_time": "2022-12-28T17:49:58.834313",
     "exception": false,
     "start_time": "2022-12-28T17:49:58.621402",
     "status": "completed"
    },
    "tags": []
   },
   "outputs": [
    {
     "data": {
      "text/plain": [
       "<AxesSubplot:xlabel='Survived', ylabel='count'>"
      ]
     },
     "execution_count": 6,
     "metadata": {},
     "output_type": "execute_result"
    },
    {
     "data": {
      "image/png": "[encoded data removed]",
      "text/plain": [
       "<Figure size 432x288 with 1 Axes>"
      ]
     },
     "metadata": {},
     "output_type": "display_data"
    }
   ],
   "source": [
    "sns.set_style('whitegrid')\n",
    "sns.countplot(x='Survived',data=train,palette='RdBu_r')"
   ]
  },
  {
   "cell_type": "code",
   "execution_count": 7,
   "id": "4b83792a",
   "metadata": {
    "execution": {
     "iopub.execute_input": "2022-12-28T17:49:58.865350Z",
     "iopub.status.busy": "2022-12-28T17:49:58.864708Z",
     "iopub.status.idle": "2022-12-28T17:49:59.093489Z",
     "shell.execute_reply": "2022-12-28T17:49:59.092645Z"
    },
    "papermill": {
     "duration": 0.245727,
     "end_time": "2022-12-28T17:49:59.095841",
     "exception": false,
     "start_time": "2022-12-28T17:49:58.850114",
     "status": "completed"
    },
    "tags": []
   },
   "outputs": [
    {
     "data": {
      "text/plain": [
       "<AxesSubplot:xlabel='Survived', ylabel='count'>"
      ]
     },
     "execution_count": 7,
     "metadata": {},
     "output_type": "execute_result"
    },
    {
     "data": {
      "image/png": "[encoded data removed]",
      "text/plain": [
       "<Figure size 432x288 with 1 Axes>"
      ]
     },
     "metadata": {},
     "output_type": "display_data"
    }
   ],
   "source": [
    "sns.set_style('whitegrid')\n",
    "sns.countplot(x='Survived',hue='Sex',data=train,palette='RdBu_r')"
   ]
  },
  {
   "cell_type": "code",
   "execution_count": 8,
   "id": "08236aeb",
   "metadata": {
    "execution": {
     "iopub.execute_input": "2022-12-28T17:49:59.132401Z",
     "iopub.status.busy": "2022-12-28T17:49:59.131974Z",
     "iopub.status.idle": "2022-12-28T17:49:59.402607Z",
     "shell.execute_reply": "2022-12-28T17:49:59.401654Z"
    },
    "papermill": {
     "duration": 0.290174,
     "end_time": "2022-12-28T17:49:59.405121",
     "exception": false,
     "start_time": "2022-12-28T17:49:59.114947",
     "status": "completed"
    },
    "tags": []
   },
   "outputs": [
    {
     "data": {
      "text/plain": [
       "<AxesSubplot:xlabel='Survived', ylabel='count'>"
      ]
     },
     "execution_count": 8,
     "metadata": {},
     "output_type": "execute_result"
    },
    {
     "data": {
      "image/png": "[encoded data removed]",
      "text/plain": [
       "<Figure size 432x288 with 1 Axes>"
      ]
     },
     "metadata": {},
     "output_type": "display_data"
    }
   ],
   "source": [
    "sns.set_style('whitegrid')\n",
    "sns.countplot(x='Survived',hue='Pclass',data=train,palette='rainbow')"
   ]
  },
  {
   "cell_type": "code",
   "execution_count": 9,
   "id": "eeeffcf1",
   "metadata": {
    "execution": {
     "iopub.execute_input": "2022-12-28T17:49:59.436488Z",
     "iopub.status.busy": "2022-12-28T17:49:59.435251Z",
     "iopub.status.idle": "2022-12-28T17:49:59.793758Z",
     "shell.execute_reply": "2022-12-28T17:49:59.792534Z"
    },
    "papermill": {
     "duration": 0.377052,
     "end_time": "2022-12-28T17:49:59.796703",
     "exception": false,
     "start_time": "2022-12-28T17:49:59.419651",
     "status": "completed"
    },
    "tags": []
   },
   "outputs": [
    {
     "name": "stderr",
     "output_type": "stream",
     "text": [
      "/opt/conda/lib/python3.7/site-packages/seaborn/distributions.py:2619: FutureWarning: `distplot` is a deprecated function and will be removed in a future version. Please adapt your code to use either `displot` (a figure-level function with similar flexibility) or `histplot` (an axes-level function for histograms).\n",
      "  warnings.warn(msg, FutureWarning)\n"
     ]
    },
    {
     "data": {
      "text/plain": [
       "<AxesSubplot:xlabel='Age'>"
      ]
     },
     "execution_count": 9,
     "metadata": {},
     "output_type": "execute_result"
    },
    {
     "data": {
      "image/png": "[encoded data removed]",
      "text/plain": [
       "<Figure size 432x288 with 1 Axes>"
      ]
     },
     "metadata": {},
     "output_type": "display_data"
    }
   ],
   "source": [
    "sns.distplot(train['Age'].dropna(),kde=False,color='darkred',bins=30)"
   ]
  },
  {
   "cell_type": "code",
   "execution_count": 10,
   "id": "55ced4ae",
   "metadata": {
    "execution": {
     "iopub.execute_input": "2022-12-28T17:49:59.827598Z",
     "iopub.status.busy": "2022-12-28T17:49:59.827170Z",
     "iopub.status.idle": "2022-12-28T17:50:00.197878Z",
     "shell.execute_reply": "2022-12-28T17:50:00.196642Z"
    },
    "papermill": {
     "duration": 0.389105,
     "end_time": "2022-12-28T17:50:00.200660",
     "exception": false,
     "start_time": "2022-12-28T17:49:59.811555",
     "status": "completed"
    },
    "tags": []
   },
   "outputs": [
    {
     "data": {
      "text/plain": [
       "<AxesSubplot:>"
      ]
     },
     "execution_count": 10,
     "metadata": {},
     "output_type": "execute_result"
    },
    {
     "data": {
      "image/png": "[encoded data removed]",
      "text/plain": [
       "<Figure size 432x288 with 1 Axes>"
      ]
     },
     "metadata": {},
     "output_type": "display_data"
    }
   ],
   "source": [
    "train['Age'].hist(bins=30,color='darkred',alpha=0.7)"
   ]
  },
  {
   "cell_type": "code",
   "execution_count": 11,
   "id": "0355a85f",
   "metadata": {
    "execution": {
     "iopub.execute_input": "2022-12-28T17:50:00.233922Z",
     "iopub.status.busy": "2022-12-28T17:50:00.233131Z",
     "iopub.status.idle": "2022-12-28T17:50:00.489297Z",
     "shell.execute_reply": "2022-12-28T17:50:00.488036Z"
    },
    "papermill": {
     "duration": 0.275789,
     "end_time": "2022-12-28T17:50:00.491952",
     "exception": false,
     "start_time": "2022-12-28T17:50:00.216163",
     "status": "completed"
    },
    "tags": []
   },
   "outputs": [
    {
     "data": {
      "text/plain": [
       "<AxesSubplot:xlabel='SibSp', ylabel='count'>"
      ]
     },
     "execution_count": 11,
     "metadata": {},
     "output_type": "execute_result"
    },
    {
     "data": {
      "image/png": "[encoded data removed]",
      "text/plain": [
       "<Figure size 432x288 with 1 Axes>"
      ]
     },
     "metadata": {},
     "output_type": "display_data"
    }
   ],
   "source": [
    "sns.countplot(x='SibSp',data=train)"
   ]
  },
  {
   "cell_type": "code",
   "execution_count": 12,
   "id": "c1186ad0",
   "metadata": {
    "execution": {
     "iopub.execute_input": "2022-12-28T17:50:00.524268Z",
     "iopub.status.busy": "2022-12-28T17:50:00.523818Z",
     "iopub.status.idle": "2022-12-28T17:50:00.896744Z",
     "shell.execute_reply": "2022-12-28T17:50:00.895399Z"
    },
    "papermill": {
     "duration": 0.392727,
     "end_time": "2022-12-28T17:50:00.899947",
     "exception": false,
     "start_time": "2022-12-28T17:50:00.507220",
     "status": "completed"
    },
    "tags": []
   },
   "outputs": [
    {
     "data": {
      "text/plain": [
       "<AxesSubplot:>"
      ]
     },
     "execution_count": 12,
     "metadata": {},
     "output_type": "execute_result"
    },
    {
     "data": {
      "image/png": "[encoded data removed]",
      "text/plain": [
       "<Figure size 576x288 with 1 Axes>"
      ]
     },
     "metadata": {},
     "output_type": "display_data"
    }
   ],
   "source": [
    "train['Fare'].hist(color='green',bins=40,figsize=(8,4))"
   ]
  },
  {
   "cell_type": "markdown",
   "id": "027ee3fd",
   "metadata": {
    "papermill": {
     "duration": 0.015945,
     "end_time": "2022-12-28T17:50:00.939066",
     "exception": false,
     "start_time": "2022-12-28T17:50:00.923121",
     "status": "completed"
    },
    "tags": []
   },
   "source": [
    "## Data Cleaning\n",
    "We want to fill in missing age data instead of just dropping the missing age data rows. One way to do this is by filling in the mean age of all the passengers (imputation)."
   ]
  },
  {
   "cell_type": "code",
   "execution_count": 13,
   "id": "871386f8",
   "metadata": {
    "execution": {
     "iopub.execute_input": "2022-12-28T17:50:00.979618Z",
     "iopub.status.busy": "2022-12-28T17:50:00.979210Z",
     "iopub.status.idle": "2022-12-28T17:50:01.285394Z",
     "shell.execute_reply": "2022-12-28T17:50:01.284142Z"
    },
    "papermill": {
     "duration": 0.326763,
     "end_time": "2022-12-28T17:50:01.288026",
     "exception": false,
     "start_time": "2022-12-28T17:50:00.961263",
     "status": "completed"
    },
    "tags": []
   },
   "outputs": [
    {
     "data": {
      "text/plain": [
       "<AxesSubplot:xlabel='Pclass', ylabel='Age'>"
      ]
     },
     "execution_count": 13,
     "metadata": {},
     "output_type": "execute_result"
    },
    {
     "data": {
      "image/png": "[encoded data removed]",
      "text/plain": [
       "<Figure size 864x504 with 1 Axes>"
      ]
     },
     "metadata": {},
     "output_type": "display_data"
    }
   ],
   "source": [
    "plt.figure(figsize=(12, 7))\n",
    "sns.boxplot(x='Pclass',y='Age',data=train,palette='winter')"
   ]
  },
  {
   "cell_type": "markdown",
   "id": "990eb7dd",
   "metadata": {
    "papermill": {
     "duration": 0.015372,
     "end_time": "2022-12-28T17:50:01.320065",
     "exception": false,
     "start_time": "2022-12-28T17:50:01.304693",
     "status": "completed"
    },
    "tags": []
   },
   "source": [
    "We can see the wealthier passengers in the higher classes tend to be older, which makes sense. We'll use these average age values to impute based on Pclass for Age."
   ]
  },
  {
   "cell_type": "code",
   "execution_count": 14,
   "id": "99083afd",
   "metadata": {
    "execution": {
     "iopub.execute_input": "2022-12-28T17:50:01.354155Z",
     "iopub.status.busy": "2022-12-28T17:50:01.352881Z",
     "iopub.status.idle": "2022-12-28T17:50:01.369573Z",
     "shell.execute_reply": "2022-12-28T17:50:01.368504Z"
    },
    "papermill": {
     "duration": 0.036907,
     "end_time": "2022-12-28T17:50:01.372661",
     "exception": false,
     "start_time": "2022-12-28T17:50:01.335754",
     "status": "completed"
    },
    "tags": []
   },
   "outputs": [
    {
     "name": "stderr",
     "output_type": "stream",
     "text": [
      "/opt/conda/lib/python3.7/site-packages/ipykernel_launcher.py:1: FutureWarning: Dropping of nuisance columns in DataFrame reductions (with 'numeric_only=None') is deprecated; in a future version this will raise TypeError.  Select only valid columns before calling the reduction.\n",
      "  \"\"\"Entry point for launching an IPython kernel.\n"
     ]
    },
    {
     "data": {
      "text/plain": [
       "PassengerId    461.597222\n",
       "Survived         0.629630\n",
       "Pclass           1.000000\n",
       "Age             38.233441\n",
       "SibSp            0.416667\n",
       "Parch            0.356481\n",
       "Fare            84.154687\n",
       "dtype: float64"
      ]
     },
     "execution_count": 14,
     "metadata": {},
     "output_type": "execute_result"
    }
   ],
   "source": [
    "train.loc[train['Pclass']==1].mean()"
   ]
  },
  {
   "cell_type": "code",
   "execution_count": 15,
   "id": "0b68cddf",
   "metadata": {
    "execution": {
     "iopub.execute_input": "2022-12-28T17:50:01.407903Z",
     "iopub.status.busy": "2022-12-28T17:50:01.407470Z",
     "iopub.status.idle": "2022-12-28T17:50:01.419715Z",
     "shell.execute_reply": "2022-12-28T17:50:01.418640Z"
    },
    "papermill": {
     "duration": 0.03531,
     "end_time": "2022-12-28T17:50:01.424781",
     "exception": false,
     "start_time": "2022-12-28T17:50:01.389471",
     "status": "completed"
    },
    "tags": []
   },
   "outputs": [
    {
     "name": "stderr",
     "output_type": "stream",
     "text": [
      "/opt/conda/lib/python3.7/site-packages/ipykernel_launcher.py:1: FutureWarning: Dropping of nuisance columns in DataFrame reductions (with 'numeric_only=None') is deprecated; in a future version this will raise TypeError.  Select only valid columns before calling the reduction.\n",
      "  \"\"\"Entry point for launching an IPython kernel.\n"
     ]
    },
    {
     "data": {
      "text/plain": [
       "PassengerId    445.956522\n",
       "Survived         0.472826\n",
       "Pclass           2.000000\n",
       "Age             29.877630\n",
       "SibSp            0.402174\n",
       "Parch            0.380435\n",
       "Fare            20.662183\n",
       "dtype: float64"
      ]
     },
     "execution_count": 15,
     "metadata": {},
     "output_type": "execute_result"
    }
   ],
   "source": [
    "train.loc[train['Pclass']==2].mean()"
   ]
  },
  {
   "cell_type": "markdown",
   "id": "f6e677d1",
   "metadata": {
    "papermill": {
     "duration": 0.01659,
     "end_time": "2022-12-28T17:50:01.458126",
     "exception": false,
     "start_time": "2022-12-28T17:50:01.441536",
     "status": "completed"
    },
    "tags": []
   },
   "source": []
  },
  {
   "cell_type": "code",
   "execution_count": 16,
   "id": "45242522",
   "metadata": {
    "execution": {
     "iopub.execute_input": "2022-12-28T17:50:01.493079Z",
     "iopub.status.busy": "2022-12-28T17:50:01.492303Z",
     "iopub.status.idle": "2022-12-28T17:50:01.508956Z",
     "shell.execute_reply": "2022-12-28T17:50:01.507244Z"
    },
    "papermill": {
     "duration": 0.038546,
     "end_time": "2022-12-28T17:50:01.512986",
     "exception": false,
     "start_time": "2022-12-28T17:50:01.474440",
     "status": "completed"
    },
    "tags": []
   },
   "outputs": [
    {
     "name": "stderr",
     "output_type": "stream",
     "text": [
      "/opt/conda/lib/python3.7/site-packages/ipykernel_launcher.py:1: FutureWarning: Dropping of nuisance columns in DataFrame reductions (with 'numeric_only=None') is deprecated; in a future version this will raise TypeError.  Select only valid columns before calling the reduction.\n",
      "  \"\"\"Entry point for launching an IPython kernel.\n"
     ]
    },
    {
     "data": {
      "text/plain": [
       "PassengerId    439.154786\n",
       "Survived         0.242363\n",
       "Pclass           3.000000\n",
       "Age             25.140620\n",
       "SibSp            0.615071\n",
       "Parch            0.393075\n",
       "Fare            13.675550\n",
       "dtype: float64"
      ]
     },
     "execution_count": 16,
     "metadata": {},
     "output_type": "execute_result"
    }
   ],
   "source": [
    "train.loc[train['Pclass']==3].mean()"
   ]
  },
  {
   "cell_type": "code",
   "execution_count": 17,
   "id": "22c31316",
   "metadata": {
    "execution": {
     "iopub.execute_input": "2022-12-28T17:50:01.550833Z",
     "iopub.status.busy": "2022-12-28T17:50:01.550315Z",
     "iopub.status.idle": "2022-12-28T17:50:01.558186Z",
     "shell.execute_reply": "2022-12-28T17:50:01.556662Z"
    },
    "papermill": {
     "duration": 0.030466,
     "end_time": "2022-12-28T17:50:01.560939",
     "exception": false,
     "start_time": "2022-12-28T17:50:01.530473",
     "status": "completed"
    },
    "tags": []
   },
   "outputs": [],
   "source": [
    "def impute_age(cols):\n",
    "    Age = cols[0]\n",
    "    Pclass = cols[1]\n",
    "    \n",
    "    if pd.isnull(Age):\n",
    "\n",
    "        if Pclass == 1:\n",
    "            return 38\n",
    "\n",
    "        elif Pclass == 2:\n",
    "            return 29\n",
    "\n",
    "        else:\n",
    "            return 25\n",
    "\n",
    "    else:\n",
    "        return Age"
   ]
  },
  {
   "cell_type": "code",
   "execution_count": 18,
   "id": "97853f61",
   "metadata": {
    "execution": {
     "iopub.execute_input": "2022-12-28T17:50:01.598731Z",
     "iopub.status.busy": "2022-12-28T17:50:01.597270Z",
     "iopub.status.idle": "2022-12-28T17:50:01.620464Z",
     "shell.execute_reply": "2022-12-28T17:50:01.618964Z"
    },
    "papermill": {
     "duration": 0.045058,
     "end_time": "2022-12-28T17:50:01.623438",
     "exception": false,
     "start_time": "2022-12-28T17:50:01.578380",
     "status": "completed"
    },
    "tags": []
   },
   "outputs": [],
   "source": [
    "train['Age'] = train[['Age','Pclass']].apply(impute_age,axis=1)"
   ]
  },
  {
   "cell_type": "code",
   "execution_count": 19,
   "id": "e7ae7fed",
   "metadata": {
    "execution": {
     "iopub.execute_input": "2022-12-28T17:50:01.659827Z",
     "iopub.status.busy": "2022-12-28T17:50:01.659394Z",
     "iopub.status.idle": "2022-12-28T17:50:01.946313Z",
     "shell.execute_reply": "2022-12-28T17:50:01.945022Z"
    },
    "papermill": {
     "duration": 0.30822,
     "end_time": "2022-12-28T17:50:01.949088",
     "exception": false,
     "start_time": "2022-12-28T17:50:01.640868",
     "status": "completed"
    },
    "tags": []
   },
   "outputs": [
    {
     "data": {
      "text/plain": [
       "<AxesSubplot:>"
      ]
     },
     "execution_count": 19,
     "metadata": {},
     "output_type": "execute_result"
    },
    {
     "data": {
      "image/png": "[encoded data removed]",
      "text/plain": [
       "<Figure size 432x288 with 1 Axes>"
      ]
     },
     "metadata": {},
     "output_type": "display_data"
    }
   ],
   "source": [
    "sns.heatmap(train.isnull(),yticklabels=False,cbar=False,cmap='viridis')"
   ]
  },
  {
   "cell_type": "code",
   "execution_count": 20,
   "id": "3b90010e",
   "metadata": {
    "execution": {
     "iopub.execute_input": "2022-12-28T17:50:01.985187Z",
     "iopub.status.busy": "2022-12-28T17:50:01.984804Z",
     "iopub.status.idle": "2022-12-28T17:50:01.990933Z",
     "shell.execute_reply": "2022-12-28T17:50:01.989641Z"
    },
    "papermill": {
     "duration": 0.027702,
     "end_time": "2022-12-28T17:50:01.993445",
     "exception": false,
     "start_time": "2022-12-28T17:50:01.965743",
     "status": "completed"
    },
    "tags": []
   },
   "outputs": [],
   "source": [
    "train.drop('Cabin',axis=1,inplace=True)"
   ]
  },
  {
   "cell_type": "code",
   "execution_count": 21,
   "id": "054c3b98",
   "metadata": {
    "execution": {
     "iopub.execute_input": "2022-12-28T17:50:02.030343Z",
     "iopub.status.busy": "2022-12-28T17:50:02.029904Z",
     "iopub.status.idle": "2022-12-28T17:50:02.047143Z",
     "shell.execute_reply": "2022-12-28T17:50:02.045894Z"
    },
    "papermill": {
     "duration": 0.038248,
     "end_time": "2022-12-28T17:50:02.049659",
     "exception": false,
     "start_time": "2022-12-28T17:50:02.011411",
     "status": "completed"
    },
    "tags": []
   },
   "outputs": [
    {
     "data": {
      "text/html": [
       "<div>\n",
       "<style scoped>\n",
       "    .dataframe tbody tr th:only-of-type {\n",
       "        vertical-align: middle;\n",
       "    }\n",
       "\n",
       "    .dataframe tbody tr th {\n",
       "        vertical-align: top;\n",
       "    }\n",
       "\n",
       "    .dataframe thead th {\n",
       "        text-align: right;\n",
       "    }\n",
       "</style>\n",
       "<table border=\"1\" class=\"dataframe\">\n",
       "  <thead>\n",
       "    <tr style=\"text-align: right;\">\n",
       "      <th></th>\n",
       "      <th>PassengerId</th>\n",
       "      <th>Survived</th>\n",
       "      <th>Pclass</th>\n",
       "      <th>Name</th>\n",
       "      <th>Sex</th>\n",
       "      <th>Age</th>\n",
       "      <th>SibSp</th>\n",
       "      <th>Parch</th>\n",
       "      <th>Ticket</th>\n",
       "      <th>Fare</th>\n",
       "      <th>Embarked</th>\n",
       "    </tr>\n",
       "  </thead>\n",
       "  <tbody>\n",
       "    <tr>\n",
       "      <th>0</th>\n",
       "      <td>1</td>\n",
       "      <td>0</td>\n",
       "      <td>3</td>\n",
       "      <td>Braund, Mr. Owen Harris</td>\n",
       "      <td>male</td>\n",
       "      <td>22.0</td>\n",
       "      <td>1</td>\n",
       "      <td>0</td>\n",
       "      <td>A/5 21171</td>\n",
       "      <td>7.2500</td>\n",
       "      <td>S</td>\n",
       "    </tr>\n",
       "    <tr>\n",
       "      <th>1</th>\n",
       "      <td>2</td>\n",
       "      <td>1</td>\n",
       "      <td>1</td>\n",
       "      <td>Cumings, Mrs. John Bradley (Florence Briggs Th...</td>\n",
       "      <td>female</td>\n",
       "      <td>38.0</td>\n",
       "      <td>1</td>\n",
       "      <td>0</td>\n",
       "      <td>PC 17599</td>\n",
       "      <td>71.2833</td>\n",
       "      <td>C</td>\n",
       "    </tr>\n",
       "    <tr>\n",
       "      <th>2</th>\n",
       "      <td>3</td>\n",
       "      <td>1</td>\n",
       "      <td>3</td>\n",
       "      <td>Heikkinen, Miss. Laina</td>\n",
       "      <td>female</td>\n",
       "      <td>26.0</td>\n",
       "      <td>0</td>\n",
       "      <td>0</td>\n",
       "      <td>STON/O2. 3101282</td>\n",
       "      <td>7.9250</td>\n",
       "      <td>S</td>\n",
       "    </tr>\n",
       "    <tr>\n",
       "      <th>3</th>\n",
       "      <td>4</td>\n",
       "      <td>1</td>\n",
       "      <td>1</td>\n",
       "      <td>Futrelle, Mrs. Jacques Heath (Lily May Peel)</td>\n",
       "      <td>female</td>\n",
       "      <td>35.0</td>\n",
       "      <td>1</td>\n",
       "      <td>0</td>\n",
       "      <td>113803</td>\n",
       "      <td>53.1000</td>\n",
       "      <td>S</td>\n",
       "    </tr>\n",
       "    <tr>\n",
       "      <th>4</th>\n",
       "      <td>5</td>\n",
       "      <td>0</td>\n",
       "      <td>3</td>\n",
       "      <td>Allen, Mr. William Henry</td>\n",
       "      <td>male</td>\n",
       "      <td>35.0</td>\n",
       "      <td>0</td>\n",
       "      <td>0</td>\n",
       "      <td>373450</td>\n",
       "      <td>8.0500</td>\n",
       "      <td>S</td>\n",
       "    </tr>\n",
       "  </tbody>\n",
       "</table>\n",
       "</div>"
      ],
      "text/plain": [
       "   PassengerId  Survived  Pclass  \\\n",
       "0            1         0       3   \n",
       "1            2         1       1   \n",
       "2            3         1       3   \n",
       "3            4         1       1   \n",
       "4            5         0       3   \n",
       "\n",
       "                                                Name     Sex   Age  SibSp  \\\n",
       "0                            Braund, Mr. Owen Harris    male  22.0      1   \n",
       "1  Cumings, Mrs. John Bradley (Florence Briggs Th...  female  38.0      1   \n",
       "2                             Heikkinen, Miss. Laina  female  26.0      0   \n",
       "3       Futrelle, Mrs. Jacques Heath (Lily May Peel)  female  35.0      1   \n",
       "4                           Allen, Mr. William Henry    male  35.0      0   \n",
       "\n",
       "   Parch            Ticket     Fare Embarked  \n",
       "0      0         A/5 21171   7.2500        S  \n",
       "1      0          PC 17599  71.2833        C  \n",
       "2      0  STON/O2. 3101282   7.9250        S  \n",
       "3      0            113803  53.1000        S  \n",
       "4      0            373450   8.0500        S  "
      ]
     },
     "execution_count": 21,
     "metadata": {},
     "output_type": "execute_result"
    }
   ],
   "source": [
    "train.head()"
   ]
  },
  {
   "cell_type": "code",
   "execution_count": 22,
   "id": "e02ba1b3",
   "metadata": {
    "execution": {
     "iopub.execute_input": "2022-12-28T17:50:02.086965Z",
     "iopub.status.busy": "2022-12-28T17:50:02.086027Z",
     "iopub.status.idle": "2022-12-28T17:50:02.095146Z",
     "shell.execute_reply": "2022-12-28T17:50:02.093984Z"
    },
    "papermill": {
     "duration": 0.03143,
     "end_time": "2022-12-28T17:50:02.097827",
     "exception": false,
     "start_time": "2022-12-28T17:50:02.066397",
     "status": "completed"
    },
    "tags": []
   },
   "outputs": [],
   "source": [
    "train.dropna(inplace=True)"
   ]
  },
  {
   "cell_type": "markdown",
   "id": "c32b4458",
   "metadata": {
    "papermill": {
     "duration": 0.016561,
     "end_time": "2022-12-28T17:50:02.132234",
     "exception": false,
     "start_time": "2022-12-28T17:50:02.115673",
     "status": "completed"
    },
    "tags": []
   },
   "source": [
    "## Converting Categorical Features \n",
    "\n",
    "We'll need to convert categorical features to dummy variables using pandas! Otherwise our machine learning algorithm won't be able to directly take in those features as inputs."
   ]
  },
  {
   "cell_type": "code",
   "execution_count": 23,
   "id": "7ac2d44a",
   "metadata": {
    "execution": {
     "iopub.execute_input": "2022-12-28T17:50:02.167958Z",
     "iopub.status.busy": "2022-12-28T17:50:02.167519Z",
     "iopub.status.idle": "2022-12-28T17:50:02.188137Z",
     "shell.execute_reply": "2022-12-28T17:50:02.186762Z"
    },
    "papermill": {
     "duration": 0.042108,
     "end_time": "2022-12-28T17:50:02.191253",
     "exception": false,
     "start_time": "2022-12-28T17:50:02.149145",
     "status": "completed"
    },
    "tags": []
   },
   "outputs": [
    {
     "name": "stdout",
     "output_type": "stream",
     "text": [
      "<class 'pandas.core.frame.DataFrame'>\n",
      "Int64Index: 889 entries, 0 to 890\n",
      "Data columns (total 11 columns):\n",
      " #   Column       Non-Null Count  Dtype  \n",
      "---  ------       --------------  -----  \n",
      " 0   PassengerId  889 non-null    int64  \n",
      " 1   Survived     889 non-null    int64  \n",
      " 2   Pclass       889 non-null    int64  \n",
      " 3   Name         889 non-null    object \n",
      " 4   Sex          889 non-null    object \n",
      " 5   Age          889 non-null    float64\n",
      " 6   SibSp        889 non-null    int64  \n",
      " 7   Parch        889 non-null    int64  \n",
      " 8   Ticket       889 non-null    object \n",
      " 9   Fare         889 non-null    float64\n",
      " 10  Embarked     889 non-null    object \n",
      "dtypes: float64(2), int64(5), object(4)\n",
      "memory usage: 83.3+ KB\n"
     ]
    }
   ],
   "source": [
    "train.info()"
   ]
  },
  {
   "cell_type": "code",
   "execution_count": 24,
   "id": "9715dc25",
   "metadata": {
    "execution": {
     "iopub.execute_input": "2022-12-28T17:50:02.228758Z",
     "iopub.status.busy": "2022-12-28T17:50:02.228282Z",
     "iopub.status.idle": "2022-12-28T17:50:02.235837Z",
     "shell.execute_reply": "2022-12-28T17:50:02.234734Z"
    },
    "papermill": {
     "duration": 0.029409,
     "end_time": "2022-12-28T17:50:02.238274",
     "exception": false,
     "start_time": "2022-12-28T17:50:02.208865",
     "status": "completed"
    },
    "tags": []
   },
   "outputs": [],
   "source": [
    "sex = pd.get_dummies(train['Sex'],drop_first=True)\n",
    "embark = pd.get_dummies(train['Embarked'],drop_first=True)"
   ]
  },
  {
   "cell_type": "code",
   "execution_count": 25,
   "id": "5d4fbe40",
   "metadata": {
    "execution": {
     "iopub.execute_input": "2022-12-28T17:50:02.276012Z",
     "iopub.status.busy": "2022-12-28T17:50:02.274758Z",
     "iopub.status.idle": "2022-12-28T17:50:02.281883Z",
     "shell.execute_reply": "2022-12-28T17:50:02.280954Z"
    },
    "papermill": {
     "duration": 0.028349,
     "end_time": "2022-12-28T17:50:02.284366",
     "exception": false,
     "start_time": "2022-12-28T17:50:02.256017",
     "status": "completed"
    },
    "tags": []
   },
   "outputs": [],
   "source": [
    "train.drop(['Sex','Embarked','Name','Ticket'],axis=1,inplace=True)"
   ]
  },
  {
   "cell_type": "code",
   "execution_count": 26,
   "id": "8c2374bd",
   "metadata": {
    "execution": {
     "iopub.execute_input": "2022-12-28T17:50:02.320458Z",
     "iopub.status.busy": "2022-12-28T17:50:02.319735Z",
     "iopub.status.idle": "2022-12-28T17:50:02.327318Z",
     "shell.execute_reply": "2022-12-28T17:50:02.326063Z"
    },
    "papermill": {
     "duration": 0.028909,
     "end_time": "2022-12-28T17:50:02.330191",
     "exception": false,
     "start_time": "2022-12-28T17:50:02.301282",
     "status": "completed"
    },
    "tags": []
   },
   "outputs": [],
   "source": [
    "train = pd.concat([train,sex,embark],axis=1)"
   ]
  },
  {
   "cell_type": "code",
   "execution_count": 27,
   "id": "c151f0b2",
   "metadata": {
    "execution": {
     "iopub.execute_input": "2022-12-28T17:50:02.368034Z",
     "iopub.status.busy": "2022-12-28T17:50:02.367637Z",
     "iopub.status.idle": "2022-12-28T17:50:02.383827Z",
     "shell.execute_reply": "2022-12-28T17:50:02.382510Z"
    },
    "papermill": {
     "duration": 0.038242,
     "end_time": "2022-12-28T17:50:02.386365",
     "exception": false,
     "start_time": "2022-12-28T17:50:02.348123",
     "status": "completed"
    },
    "tags": []
   },
   "outputs": [
    {
     "data": {
      "text/html": [
       "<div>\n",
       "<style scoped>\n",
       "    .dataframe tbody tr th:only-of-type {\n",
       "        vertical-align: middle;\n",
       "    }\n",
       "\n",
       "    .dataframe tbody tr th {\n",
       "        vertical-align: top;\n",
       "    }\n",
       "\n",
       "    .dataframe thead th {\n",
       "        text-align: right;\n",
       "    }\n",
       "</style>\n",
       "<table border=\"1\" class=\"dataframe\">\n",
       "  <thead>\n",
       "    <tr style=\"text-align: right;\">\n",
       "      <th></th>\n",
       "      <th>PassengerId</th>\n",
       "      <th>Survived</th>\n",
       "      <th>Pclass</th>\n",
       "      <th>Age</th>\n",
       "      <th>SibSp</th>\n",
       "      <th>Parch</th>\n",
       "      <th>Fare</th>\n",
       "      <th>male</th>\n",
       "      <th>Q</th>\n",
       "      <th>S</th>\n",
       "    </tr>\n",
       "  </thead>\n",
       "  <tbody>\n",
       "    <tr>\n",
       "      <th>0</th>\n",
       "      <td>1</td>\n",
       "      <td>0</td>\n",
       "      <td>3</td>\n",
       "      <td>22.0</td>\n",
       "      <td>1</td>\n",
       "      <td>0</td>\n",
       "      <td>7.2500</td>\n",
       "      <td>1</td>\n",
       "      <td>0</td>\n",
       "      <td>1</td>\n",
       "    </tr>\n",
       "    <tr>\n",
       "      <th>1</th>\n",
       "      <td>2</td>\n",
       "      <td>1</td>\n",
       "      <td>1</td>\n",
       "      <td>38.0</td>\n",
       "      <td>1</td>\n",
       "      <td>0</td>\n",
       "      <td>71.2833</td>\n",
       "      <td>0</td>\n",
       "      <td>0</td>\n",
       "      <td>0</td>\n",
       "    </tr>\n",
       "    <tr>\n",
       "      <th>2</th>\n",
       "      <td>3</td>\n",
       "      <td>1</td>\n",
       "      <td>3</td>\n",
       "      <td>26.0</td>\n",
       "      <td>0</td>\n",
       "      <td>0</td>\n",
       "      <td>7.9250</td>\n",
       "      <td>0</td>\n",
       "      <td>0</td>\n",
       "      <td>1</td>\n",
       "    </tr>\n",
       "    <tr>\n",
       "      <th>3</th>\n",
       "      <td>4</td>\n",
       "      <td>1</td>\n",
       "      <td>1</td>\n",
       "      <td>35.0</td>\n",
       "      <td>1</td>\n",
       "      <td>0</td>\n",
       "      <td>53.1000</td>\n",
       "      <td>0</td>\n",
       "      <td>0</td>\n",
       "      <td>1</td>\n",
       "    </tr>\n",
       "    <tr>\n",
       "      <th>4</th>\n",
       "      <td>5</td>\n",
       "      <td>0</td>\n",
       "      <td>3</td>\n",
       "      <td>35.0</td>\n",
       "      <td>0</td>\n",
       "      <td>0</td>\n",
       "      <td>8.0500</td>\n",
       "      <td>1</td>\n",
       "      <td>0</td>\n",
       "      <td>1</td>\n",
       "    </tr>\n",
       "  </tbody>\n",
       "</table>\n",
       "</div>"
      ],
      "text/plain": [
       "   PassengerId  Survived  Pclass   Age  SibSp  Parch     Fare  male  Q  S\n",
       "0            1         0       3  22.0      1      0   7.2500     1  0  1\n",
       "1            2         1       1  38.0      1      0  71.2833     0  0  0\n",
       "2            3         1       3  26.0      0      0   7.9250     0  0  1\n",
       "3            4         1       1  35.0      1      0  53.1000     0  0  1\n",
       "4            5         0       3  35.0      0      0   8.0500     1  0  1"
      ]
     },
     "execution_count": 27,
     "metadata": {},
     "output_type": "execute_result"
    }
   ],
   "source": [
    "train.head()"
   ]
  },
  {
   "cell_type": "markdown",
   "id": "fe487f4e",
   "metadata": {
    "papermill": {
     "duration": 0.016539,
     "end_time": "2022-12-28T17:50:02.420154",
     "exception": false,
     "start_time": "2022-12-28T17:50:02.403615",
     "status": "completed"
    },
    "tags": []
   },
   "source": [
    "# Building a Logistic Regression model"
   ]
  },
  {
   "cell_type": "code",
   "execution_count": 28,
   "id": "d214e7fb",
   "metadata": {
    "execution": {
     "iopub.execute_input": "2022-12-28T17:50:02.457197Z",
     "iopub.status.busy": "2022-12-28T17:50:02.456403Z",
     "iopub.status.idle": "2022-12-28T17:50:02.690761Z",
     "shell.execute_reply": "2022-12-28T17:50:02.689192Z"
    },
    "papermill": {
     "duration": 0.25638,
     "end_time": "2022-12-28T17:50:02.693607",
     "exception": false,
     "start_time": "2022-12-28T17:50:02.437227",
     "status": "completed"
    },
    "tags": []
   },
   "outputs": [],
   "source": [
    "from sklearn.model_selection import train_test_split"
   ]
  },
  {
   "cell_type": "code",
   "execution_count": 29,
   "id": "faa7284e",
   "metadata": {
    "execution": {
     "iopub.execute_input": "2022-12-28T17:50:02.731328Z",
     "iopub.status.busy": "2022-12-28T17:50:02.730870Z",
     "iopub.status.idle": "2022-12-28T17:50:02.741549Z",
     "shell.execute_reply": "2022-12-28T17:50:02.740063Z"
    },
    "papermill": {
     "duration": 0.032936,
     "end_time": "2022-12-28T17:50:02.744476",
     "exception": false,
     "start_time": "2022-12-28T17:50:02.711540",
     "status": "completed"
    },
    "tags": []
   },
   "outputs": [],
   "source": [
    "X_train, X_test, y_train, y_test = train_test_split(train.drop('Survived',axis=1), \n",
    "                                                    train['Survived'], test_size=0.30, \n",
    "                                                    random_state=101)"
   ]
  },
  {
   "cell_type": "markdown",
   "id": "1b74ed6b",
   "metadata": {
    "papermill": {
     "duration": 0.017787,
     "end_time": "2022-12-28T17:50:02.780456",
     "exception": false,
     "start_time": "2022-12-28T17:50:02.762669",
     "status": "completed"
    },
    "tags": []
   },
   "source": [
    "## Training and Predicting\n"
   ]
  },
  {
   "cell_type": "code",
   "execution_count": 30,
   "id": "f21ca141",
   "metadata": {
    "execution": {
     "iopub.execute_input": "2022-12-28T17:50:02.817699Z",
     "iopub.status.busy": "2022-12-28T17:50:02.817257Z",
     "iopub.status.idle": "2022-12-28T17:50:02.902475Z",
     "shell.execute_reply": "2022-12-28T17:50:02.901547Z"
    },
    "papermill": {
     "duration": 0.107408,
     "end_time": "2022-12-28T17:50:02.905250",
     "exception": false,
     "start_time": "2022-12-28T17:50:02.797842",
     "status": "completed"
    },
    "tags": []
   },
   "outputs": [],
   "source": [
    "from sklearn.linear_model import LogisticRegression"
   ]
  },
  {
   "cell_type": "code",
   "execution_count": 31,
   "id": "5c0f5328",
   "metadata": {
    "execution": {
     "iopub.execute_input": "2022-12-28T17:50:02.941827Z",
     "iopub.status.busy": "2022-12-28T17:50:02.941389Z",
     "iopub.status.idle": "2022-12-28T17:50:02.995234Z",
     "shell.execute_reply": "2022-12-28T17:50:02.993354Z"
    },
    "papermill": {
     "duration": 0.075032,
     "end_time": "2022-12-28T17:50:02.997840",
     "exception": false,
     "start_time": "2022-12-28T17:50:02.922808",
     "status": "completed"
    },
    "tags": []
   },
   "outputs": [
    {
     "name": "stderr",
     "output_type": "stream",
     "text": [
      "/opt/conda/lib/python3.7/site-packages/sklearn/linear_model/_logistic.py:818: ConvergenceWarning: lbfgs failed to converge (status=1):\n",
      "STOP: TOTAL NO. of ITERATIONS REACHED LIMIT.\n",
      "\n",
      "Increase the number of iterations (max_iter) or scale the data as shown in:\n",
      "    https://scikit-learn.org/stable/modules/preprocessing.html\n",
      "Please also refer to the documentation for alternative solver options:\n",
      "    https://scikit-learn.org/stable/modules/linear_model.html#logistic-regression\n",
      "  extra_warning_msg=_LOGISTIC_SOLVER_CONVERGENCE_MSG,\n"
     ]
    },
    {
     "data": {
      "text/plain": [
       "LogisticRegression()"
      ]
     },
     "execution_count": 31,
     "metadata": {},
     "output_type": "execute_result"
    }
   ],
   "source": [
    "logmodel = LogisticRegression()\n",
    "logmodel.fit(X_train,y_train)"
   ]
  },
  {
   "cell_type": "code",
   "execution_count": 32,
   "id": "ece971e3",
   "metadata": {
    "execution": {
     "iopub.execute_input": "2022-12-28T17:50:03.034281Z",
     "iopub.status.busy": "2022-12-28T17:50:03.033858Z",
     "iopub.status.idle": "2022-12-28T17:50:03.041907Z",
     "shell.execute_reply": "2022-12-28T17:50:03.040602Z"
    },
    "papermill": {
     "duration": 0.029068,
     "end_time": "2022-12-28T17:50:03.044345",
     "exception": false,
     "start_time": "2022-12-28T17:50:03.015277",
     "status": "completed"
    },
    "tags": []
   },
   "outputs": [],
   "source": [
    "predictions = logmodel.predict(X_test)"
   ]
  },
  {
   "cell_type": "markdown",
   "id": "26d1045c",
   "metadata": {
    "papermill": {
     "duration": 0.017863,
     "end_time": "2022-12-28T17:50:03.079901",
     "exception": false,
     "start_time": "2022-12-28T17:50:03.062038",
     "status": "completed"
    },
    "tags": []
   },
   "source": [
    "## Evaluation"
   ]
  },
  {
   "cell_type": "code",
   "execution_count": 33,
   "id": "a386c2eb",
   "metadata": {
    "execution": {
     "iopub.execute_input": "2022-12-28T17:50:03.117697Z",
     "iopub.status.busy": "2022-12-28T17:50:03.116906Z",
     "iopub.status.idle": "2022-12-28T17:50:03.122389Z",
     "shell.execute_reply": "2022-12-28T17:50:03.121111Z"
    },
    "papermill": {
     "duration": 0.027311,
     "end_time": "2022-12-28T17:50:03.124827",
     "exception": false,
     "start_time": "2022-12-28T17:50:03.097516",
     "status": "completed"
    },
    "tags": []
   },
   "outputs": [],
   "source": [
    "from sklearn.metrics import classification_report"
   ]
  },
  {
   "cell_type": "code",
   "execution_count": 34,
   "id": "39cdc968",
   "metadata": {
    "execution": {
     "iopub.execute_input": "2022-12-28T17:50:03.162617Z",
     "iopub.status.busy": "2022-12-28T17:50:03.161387Z",
     "iopub.status.idle": "2022-12-28T17:50:03.172509Z",
     "shell.execute_reply": "2022-12-28T17:50:03.170849Z"
    },
    "papermill": {
     "duration": 0.033239,
     "end_time": "2022-12-28T17:50:03.175614",
     "exception": false,
     "start_time": "2022-12-28T17:50:03.142375",
     "status": "completed"
    },
    "tags": []
   },
   "outputs": [
    {
     "name": "stdout",
     "output_type": "stream",
     "text": [
      "              precision    recall  f1-score   support\n",
      "\n",
      "           0       0.80      0.91      0.85       163\n",
      "           1       0.82      0.65      0.73       104\n",
      "\n",
      "    accuracy                           0.81       267\n",
      "   macro avg       0.81      0.78      0.79       267\n",
      "weighted avg       0.81      0.81      0.80       267\n",
      "\n"
     ]
    }
   ],
   "source": [
    "print(classification_report(y_test,predictions))"
   ]
  },
  {
   "cell_type": "markdown",
   "id": "91422252",
   "metadata": {
    "papermill": {
     "duration": 0.016899,
     "end_time": "2022-12-28T17:50:03.210468",
     "exception": false,
     "start_time": "2022-12-28T17:50:03.193569",
     "status": "completed"
    },
    "tags": []
   },
   "source": [
    "## Preparing Test Data\n"
   ]
  },
  {
   "cell_type": "code",
   "execution_count": 35,
   "id": "48630f9f",
   "metadata": {
    "execution": {
     "iopub.execute_input": "2022-12-28T17:50:03.247424Z",
     "iopub.status.busy": "2022-12-28T17:50:03.247043Z",
     "iopub.status.idle": "2022-12-28T17:50:03.259928Z",
     "shell.execute_reply": "2022-12-28T17:50:03.258664Z"
    },
    "papermill": {
     "duration": 0.034703,
     "end_time": "2022-12-28T17:50:03.262687",
     "exception": false,
     "start_time": "2022-12-28T17:50:03.227984",
     "status": "completed"
    },
    "tags": []
   },
   "outputs": [],
   "source": [
    "test['Age'] = test[['Age','Pclass']].apply(impute_age,axis=1)"
   ]
  },
  {
   "cell_type": "code",
   "execution_count": 36,
   "id": "b3ab9e2e",
   "metadata": {
    "execution": {
     "iopub.execute_input": "2022-12-28T17:50:03.300245Z",
     "iopub.status.busy": "2022-12-28T17:50:03.299854Z",
     "iopub.status.idle": "2022-12-28T17:50:03.557930Z",
     "shell.execute_reply": "2022-12-28T17:50:03.556782Z"
    },
    "papermill": {
     "duration": 0.280043,
     "end_time": "2022-12-28T17:50:03.560839",
     "exception": false,
     "start_time": "2022-12-28T17:50:03.280796",
     "status": "completed"
    },
    "tags": []
   },
   "outputs": [
    {
     "data": {
      "text/plain": [
       "<AxesSubplot:>"
      ]
     },
     "execution_count": 36,
     "metadata": {},
     "output_type": "execute_result"
    },
    {
     "data": {
      "image/png": "[encoded data removed]",
      "text/plain": [
       "<Figure size 432x288 with 1 Axes>"
      ]
     },
     "metadata": {},
     "output_type": "display_data"
    }
   ],
   "source": [
    "sns.heatmap(test.isnull(),yticklabels=False,cbar=False,cmap='viridis')"
   ]
  },
  {
   "cell_type": "code",
   "execution_count": 37,
   "id": "10093cee",
   "metadata": {
    "execution": {
     "iopub.execute_input": "2022-12-28T17:50:03.600831Z",
     "iopub.status.busy": "2022-12-28T17:50:03.599432Z",
     "iopub.status.idle": "2022-12-28T17:50:03.607051Z",
     "shell.execute_reply": "2022-12-28T17:50:03.605782Z"
    },
    "papermill": {
     "duration": 0.030709,
     "end_time": "2022-12-28T17:50:03.609517",
     "exception": false,
     "start_time": "2022-12-28T17:50:03.578808",
     "status": "completed"
    },
    "tags": []
   },
   "outputs": [],
   "source": [
    "test.drop('Cabin',axis=1,inplace=True)"
   ]
  },
  {
   "cell_type": "code",
   "execution_count": 38,
   "id": "07bc0116",
   "metadata": {
    "execution": {
     "iopub.execute_input": "2022-12-28T17:50:03.648754Z",
     "iopub.status.busy": "2022-12-28T17:50:03.647961Z",
     "iopub.status.idle": "2022-12-28T17:50:03.672141Z",
     "shell.execute_reply": "2022-12-28T17:50:03.670934Z"
    },
    "papermill": {
     "duration": 0.046514,
     "end_time": "2022-12-28T17:50:03.674497",
     "exception": false,
     "start_time": "2022-12-28T17:50:03.627983",
     "status": "completed"
    },
    "tags": []
   },
   "outputs": [
    {
     "data": {
      "text/html": [
       "<div>\n",
       "<style scoped>\n",
       "    .dataframe tbody tr th:only-of-type {\n",
       "        vertical-align: middle;\n",
       "    }\n",
       "\n",
       "    .dataframe tbody tr th {\n",
       "        vertical-align: top;\n",
       "    }\n",
       "\n",
       "    .dataframe thead th {\n",
       "        text-align: right;\n",
       "    }\n",
       "</style>\n",
       "<table border=\"1\" class=\"dataframe\">\n",
       "  <thead>\n",
       "    <tr style=\"text-align: right;\">\n",
       "      <th></th>\n",
       "      <th>PassengerId</th>\n",
       "      <th>Pclass</th>\n",
       "      <th>Name</th>\n",
       "      <th>Sex</th>\n",
       "      <th>Age</th>\n",
       "      <th>SibSp</th>\n",
       "      <th>Parch</th>\n",
       "      <th>Ticket</th>\n",
       "      <th>Fare</th>\n",
       "      <th>Embarked</th>\n",
       "    </tr>\n",
       "  </thead>\n",
       "  <tbody>\n",
       "    <tr>\n",
       "      <th>0</th>\n",
       "      <td>892</td>\n",
       "      <td>3</td>\n",
       "      <td>Kelly, Mr. James</td>\n",
       "      <td>male</td>\n",
       "      <td>34.5</td>\n",
       "      <td>0</td>\n",
       "      <td>0</td>\n",
       "      <td>330911</td>\n",
       "      <td>7.8292</td>\n",
       "      <td>Q</td>\n",
       "    </tr>\n",
       "    <tr>\n",
       "      <th>1</th>\n",
       "      <td>893</td>\n",
       "      <td>3</td>\n",
       "      <td>Wilkes, Mrs. James (Ellen Needs)</td>\n",
       "      <td>female</td>\n",
       "      <td>47.0</td>\n",
       "      <td>1</td>\n",
       "      <td>0</td>\n",
       "      <td>363272</td>\n",
       "      <td>7.0000</td>\n",
       "      <td>S</td>\n",
       "    </tr>\n",
       "    <tr>\n",
       "      <th>2</th>\n",
       "      <td>894</td>\n",
       "      <td>2</td>\n",
       "      <td>Myles, Mr. Thomas Francis</td>\n",
       "      <td>male</td>\n",
       "      <td>62.0</td>\n",
       "      <td>0</td>\n",
       "      <td>0</td>\n",
       "      <td>240276</td>\n",
       "      <td>9.6875</td>\n",
       "      <td>Q</td>\n",
       "    </tr>\n",
       "    <tr>\n",
       "      <th>3</th>\n",
       "      <td>895</td>\n",
       "      <td>3</td>\n",
       "      <td>Wirz, Mr. Albert</td>\n",
       "      <td>male</td>\n",
       "      <td>27.0</td>\n",
       "      <td>0</td>\n",
       "      <td>0</td>\n",
       "      <td>315154</td>\n",
       "      <td>8.6625</td>\n",
       "      <td>S</td>\n",
       "    </tr>\n",
       "    <tr>\n",
       "      <th>4</th>\n",
       "      <td>896</td>\n",
       "      <td>3</td>\n",
       "      <td>Hirvonen, Mrs. Alexander (Helga E Lindqvist)</td>\n",
       "      <td>female</td>\n",
       "      <td>22.0</td>\n",
       "      <td>1</td>\n",
       "      <td>1</td>\n",
       "      <td>3101298</td>\n",
       "      <td>12.2875</td>\n",
       "      <td>S</td>\n",
       "    </tr>\n",
       "    <tr>\n",
       "      <th>...</th>\n",
       "      <td>...</td>\n",
       "      <td>...</td>\n",
       "      <td>...</td>\n",
       "      <td>...</td>\n",
       "      <td>...</td>\n",
       "      <td>...</td>\n",
       "      <td>...</td>\n",
       "      <td>...</td>\n",
       "      <td>...</td>\n",
       "      <td>...</td>\n",
       "    </tr>\n",
       "    <tr>\n",
       "      <th>413</th>\n",
       "      <td>1305</td>\n",
       "      <td>3</td>\n",
       "      <td>Spector, Mr. Woolf</td>\n",
       "      <td>male</td>\n",
       "      <td>25.0</td>\n",
       "      <td>0</td>\n",
       "      <td>0</td>\n",
       "      <td>A.5. 3236</td>\n",
       "      <td>8.0500</td>\n",
       "      <td>S</td>\n",
       "    </tr>\n",
       "    <tr>\n",
       "      <th>414</th>\n",
       "      <td>1306</td>\n",
       "      <td>1</td>\n",
       "      <td>Oliva y Ocana, Dona. Fermina</td>\n",
       "      <td>female</td>\n",
       "      <td>39.0</td>\n",
       "      <td>0</td>\n",
       "      <td>0</td>\n",
       "      <td>PC 17758</td>\n",
       "      <td>108.9000</td>\n",
       "      <td>C</td>\n",
       "    </tr>\n",
       "    <tr>\n",
       "      <th>415</th>\n",
       "      <td>1307</td>\n",
       "      <td>3</td>\n",
       "      <td>Saether, Mr. Simon Sivertsen</td>\n",
       "      <td>male</td>\n",
       "      <td>38.5</td>\n",
       "      <td>0</td>\n",
       "      <td>0</td>\n",
       "      <td>SOTON/O.Q. 3101262</td>\n",
       "      <td>7.2500</td>\n",
       "      <td>S</td>\n",
       "    </tr>\n",
       "    <tr>\n",
       "      <th>416</th>\n",
       "      <td>1308</td>\n",
       "      <td>3</td>\n",
       "      <td>Ware, Mr. Frederick</td>\n",
       "      <td>male</td>\n",
       "      <td>25.0</td>\n",
       "      <td>0</td>\n",
       "      <td>0</td>\n",
       "      <td>359309</td>\n",
       "      <td>8.0500</td>\n",
       "      <td>S</td>\n",
       "    </tr>\n",
       "    <tr>\n",
       "      <th>417</th>\n",
       "      <td>1309</td>\n",
       "      <td>3</td>\n",
       "      <td>Peter, Master. Michael J</td>\n",
       "      <td>male</td>\n",
       "      <td>25.0</td>\n",
       "      <td>1</td>\n",
       "      <td>1</td>\n",
       "      <td>2668</td>\n",
       "      <td>22.3583</td>\n",
       "      <td>C</td>\n",
       "    </tr>\n",
       "  </tbody>\n",
       "</table>\n",
       "<p>418 rows × 10 columns</p>\n",
       "</div>"
      ],
      "text/plain": [
       "     PassengerId  Pclass                                          Name  \\\n",
       "0            892       3                              Kelly, Mr. James   \n",
       "1            893       3              Wilkes, Mrs. James (Ellen Needs)   \n",
       "2            894       2                     Myles, Mr. Thomas Francis   \n",
       "3            895       3                              Wirz, Mr. Albert   \n",
       "4            896       3  Hirvonen, Mrs. Alexander (Helga E Lindqvist)   \n",
       "..           ...     ...                                           ...   \n",
       "413         1305       3                            Spector, Mr. Woolf   \n",
       "414         1306       1                  Oliva y Ocana, Dona. Fermina   \n",
       "415         1307       3                  Saether, Mr. Simon Sivertsen   \n",
       "416         1308       3                           Ware, Mr. Frederick   \n",
       "417         1309       3                      Peter, Master. Michael J   \n",
       "\n",
       "        Sex   Age  SibSp  Parch              Ticket      Fare Embarked  \n",
       "0      male  34.5      0      0              330911    7.8292        Q  \n",
       "1    female  47.0      1      0              363272    7.0000        S  \n",
       "2      male  62.0      0      0              240276    9.6875        Q  \n",
       "3      male  27.0      0      0              315154    8.6625        S  \n",
       "4    female  22.0      1      1             3101298   12.2875        S  \n",
       "..      ...   ...    ...    ...                 ...       ...      ...  \n",
       "413    male  25.0      0      0           A.5. 3236    8.0500        S  \n",
       "414  female  39.0      0      0            PC 17758  108.9000        C  \n",
       "415    male  38.5      0      0  SOTON/O.Q. 3101262    7.2500        S  \n",
       "416    male  25.0      0      0              359309    8.0500        S  \n",
       "417    male  25.0      1      1                2668   22.3583        C  \n",
       "\n",
       "[418 rows x 10 columns]"
      ]
     },
     "execution_count": 38,
     "metadata": {},
     "output_type": "execute_result"
    }
   ],
   "source": [
    "test"
   ]
  },
  {
   "cell_type": "code",
   "execution_count": 39,
   "id": "2d1714b3",
   "metadata": {
    "execution": {
     "iopub.execute_input": "2022-12-28T17:50:03.713811Z",
     "iopub.status.busy": "2022-12-28T17:50:03.713421Z",
     "iopub.status.idle": "2022-12-28T17:50:03.721547Z",
     "shell.execute_reply": "2022-12-28T17:50:03.720294Z"
    },
    "papermill": {
     "duration": 0.030629,
     "end_time": "2022-12-28T17:50:03.723940",
     "exception": false,
     "start_time": "2022-12-28T17:50:03.693311",
     "status": "completed"
    },
    "tags": []
   },
   "outputs": [],
   "source": [
    "test.dropna(inplace=True)"
   ]
  },
  {
   "cell_type": "code",
   "execution_count": 40,
   "id": "cd938e53",
   "metadata": {
    "execution": {
     "iopub.execute_input": "2022-12-28T17:50:03.762852Z",
     "iopub.status.busy": "2022-12-28T17:50:03.761944Z",
     "iopub.status.idle": "2022-12-28T17:50:03.784858Z",
     "shell.execute_reply": "2022-12-28T17:50:03.783653Z"
    },
    "papermill": {
     "duration": 0.04515,
     "end_time": "2022-12-28T17:50:03.787384",
     "exception": false,
     "start_time": "2022-12-28T17:50:03.742234",
     "status": "completed"
    },
    "tags": []
   },
   "outputs": [
    {
     "data": {
      "text/html": [
       "<div>\n",
       "<style scoped>\n",
       "    .dataframe tbody tr th:only-of-type {\n",
       "        vertical-align: middle;\n",
       "    }\n",
       "\n",
       "    .dataframe tbody tr th {\n",
       "        vertical-align: top;\n",
       "    }\n",
       "\n",
       "    .dataframe thead th {\n",
       "        text-align: right;\n",
       "    }\n",
       "</style>\n",
       "<table border=\"1\" class=\"dataframe\">\n",
       "  <thead>\n",
       "    <tr style=\"text-align: right;\">\n",
       "      <th></th>\n",
       "      <th>PassengerId</th>\n",
       "      <th>Pclass</th>\n",
       "      <th>Name</th>\n",
       "      <th>Sex</th>\n",
       "      <th>Age</th>\n",
       "      <th>SibSp</th>\n",
       "      <th>Parch</th>\n",
       "      <th>Ticket</th>\n",
       "      <th>Fare</th>\n",
       "      <th>Embarked</th>\n",
       "    </tr>\n",
       "  </thead>\n",
       "  <tbody>\n",
       "    <tr>\n",
       "      <th>0</th>\n",
       "      <td>892</td>\n",
       "      <td>3</td>\n",
       "      <td>Kelly, Mr. James</td>\n",
       "      <td>male</td>\n",
       "      <td>34.5</td>\n",
       "      <td>0</td>\n",
       "      <td>0</td>\n",
       "      <td>330911</td>\n",
       "      <td>7.8292</td>\n",
       "      <td>Q</td>\n",
       "    </tr>\n",
       "    <tr>\n",
       "      <th>1</th>\n",
       "      <td>893</td>\n",
       "      <td>3</td>\n",
       "      <td>Wilkes, Mrs. James (Ellen Needs)</td>\n",
       "      <td>female</td>\n",
       "      <td>47.0</td>\n",
       "      <td>1</td>\n",
       "      <td>0</td>\n",
       "      <td>363272</td>\n",
       "      <td>7.0000</td>\n",
       "      <td>S</td>\n",
       "    </tr>\n",
       "    <tr>\n",
       "      <th>2</th>\n",
       "      <td>894</td>\n",
       "      <td>2</td>\n",
       "      <td>Myles, Mr. Thomas Francis</td>\n",
       "      <td>male</td>\n",
       "      <td>62.0</td>\n",
       "      <td>0</td>\n",
       "      <td>0</td>\n",
       "      <td>240276</td>\n",
       "      <td>9.6875</td>\n",
       "      <td>Q</td>\n",
       "    </tr>\n",
       "    <tr>\n",
       "      <th>3</th>\n",
       "      <td>895</td>\n",
       "      <td>3</td>\n",
       "      <td>Wirz, Mr. Albert</td>\n",
       "      <td>male</td>\n",
       "      <td>27.0</td>\n",
       "      <td>0</td>\n",
       "      <td>0</td>\n",
       "      <td>315154</td>\n",
       "      <td>8.6625</td>\n",
       "      <td>S</td>\n",
       "    </tr>\n",
       "    <tr>\n",
       "      <th>4</th>\n",
       "      <td>896</td>\n",
       "      <td>3</td>\n",
       "      <td>Hirvonen, Mrs. Alexander (Helga E Lindqvist)</td>\n",
       "      <td>female</td>\n",
       "      <td>22.0</td>\n",
       "      <td>1</td>\n",
       "      <td>1</td>\n",
       "      <td>3101298</td>\n",
       "      <td>12.2875</td>\n",
       "      <td>S</td>\n",
       "    </tr>\n",
       "    <tr>\n",
       "      <th>...</th>\n",
       "      <td>...</td>\n",
       "      <td>...</td>\n",
       "      <td>...</td>\n",
       "      <td>...</td>\n",
       "      <td>...</td>\n",
       "      <td>...</td>\n",
       "      <td>...</td>\n",
       "      <td>...</td>\n",
       "      <td>...</td>\n",
       "      <td>...</td>\n",
       "    </tr>\n",
       "    <tr>\n",
       "      <th>413</th>\n",
       "      <td>1305</td>\n",
       "      <td>3</td>\n",
       "      <td>Spector, Mr. Woolf</td>\n",
       "      <td>male</td>\n",
       "      <td>25.0</td>\n",
       "      <td>0</td>\n",
       "      <td>0</td>\n",
       "      <td>A.5. 3236</td>\n",
       "      <td>8.0500</td>\n",
       "      <td>S</td>\n",
       "    </tr>\n",
       "    <tr>\n",
       "      <th>414</th>\n",
       "      <td>1306</td>\n",
       "      <td>1</td>\n",
       "      <td>Oliva y Ocana, Dona. Fermina</td>\n",
       "      <td>female</td>\n",
       "      <td>39.0</td>\n",
       "      <td>0</td>\n",
       "      <td>0</td>\n",
       "      <td>PC 17758</td>\n",
       "      <td>108.9000</td>\n",
       "      <td>C</td>\n",
       "    </tr>\n",
       "    <tr>\n",
       "      <th>415</th>\n",
       "      <td>1307</td>\n",
       "      <td>3</td>\n",
       "      <td>Saether, Mr. Simon Sivertsen</td>\n",
       "      <td>male</td>\n",
       "      <td>38.5</td>\n",
       "      <td>0</td>\n",
       "      <td>0</td>\n",
       "      <td>SOTON/O.Q. 3101262</td>\n",
       "      <td>7.2500</td>\n",
       "      <td>S</td>\n",
       "    </tr>\n",
       "    <tr>\n",
       "      <th>416</th>\n",
       "      <td>1308</td>\n",
       "      <td>3</td>\n",
       "      <td>Ware, Mr. Frederick</td>\n",
       "      <td>male</td>\n",
       "      <td>25.0</td>\n",
       "      <td>0</td>\n",
       "      <td>0</td>\n",
       "      <td>359309</td>\n",
       "      <td>8.0500</td>\n",
       "      <td>S</td>\n",
       "    </tr>\n",
       "    <tr>\n",
       "      <th>417</th>\n",
       "      <td>1309</td>\n",
       "      <td>3</td>\n",
       "      <td>Peter, Master. Michael J</td>\n",
       "      <td>male</td>\n",
       "      <td>25.0</td>\n",
       "      <td>1</td>\n",
       "      <td>1</td>\n",
       "      <td>2668</td>\n",
       "      <td>22.3583</td>\n",
       "      <td>C</td>\n",
       "    </tr>\n",
       "  </tbody>\n",
       "</table>\n",
       "<p>417 rows × 10 columns</p>\n",
       "</div>"
      ],
      "text/plain": [
       "     PassengerId  Pclass                                          Name  \\\n",
       "0            892       3                              Kelly, Mr. James   \n",
       "1            893       3              Wilkes, Mrs. James (Ellen Needs)   \n",
       "2            894       2                     Myles, Mr. Thomas Francis   \n",
       "3            895       3                              Wirz, Mr. Albert   \n",
       "4            896       3  Hirvonen, Mrs. Alexander (Helga E Lindqvist)   \n",
       "..           ...     ...                                           ...   \n",
       "413         1305       3                            Spector, Mr. Woolf   \n",
       "414         1306       1                  Oliva y Ocana, Dona. Fermina   \n",
       "415         1307       3                  Saether, Mr. Simon Sivertsen   \n",
       "416         1308       3                           Ware, Mr. Frederick   \n",
       "417         1309       3                      Peter, Master. Michael J   \n",
       "\n",
       "        Sex   Age  SibSp  Parch              Ticket      Fare Embarked  \n",
       "0      male  34.5      0      0              330911    7.8292        Q  \n",
       "1    female  47.0      1      0              363272    7.0000        S  \n",
       "2      male  62.0      0      0              240276    9.6875        Q  \n",
       "3      male  27.0      0      0              315154    8.6625        S  \n",
       "4    female  22.0      1      1             3101298   12.2875        S  \n",
       "..      ...   ...    ...    ...                 ...       ...      ...  \n",
       "413    male  25.0      0      0           A.5. 3236    8.0500        S  \n",
       "414  female  39.0      0      0            PC 17758  108.9000        C  \n",
       "415    male  38.5      0      0  SOTON/O.Q. 3101262    7.2500        S  \n",
       "416    male  25.0      0      0              359309    8.0500        S  \n",
       "417    male  25.0      1      1                2668   22.3583        C  \n",
       "\n",
       "[417 rows x 10 columns]"
      ]
     },
     "execution_count": 40,
     "metadata": {},
     "output_type": "execute_result"
    }
   ],
   "source": [
    "test"
   ]
  },
  {
   "cell_type": "code",
   "execution_count": 41,
   "id": "6913c8d6",
   "metadata": {
    "execution": {
     "iopub.execute_input": "2022-12-28T17:50:03.827921Z",
     "iopub.status.busy": "2022-12-28T17:50:03.827185Z",
     "iopub.status.idle": "2022-12-28T17:50:03.834952Z",
     "shell.execute_reply": "2022-12-28T17:50:03.833771Z"
    },
    "papermill": {
     "duration": 0.03216,
     "end_time": "2022-12-28T17:50:03.838059",
     "exception": false,
     "start_time": "2022-12-28T17:50:03.805899",
     "status": "completed"
    },
    "tags": []
   },
   "outputs": [],
   "source": [
    "sex = pd.get_dummies(test['Sex'],drop_first=True)\n",
    "embark = pd.get_dummies(test['Embarked'],drop_first=True)"
   ]
  },
  {
   "cell_type": "markdown",
   "id": "2fb2efcd",
   "metadata": {
    "papermill": {
     "duration": 0.019653,
     "end_time": "2022-12-28T17:50:03.876761",
     "exception": false,
     "start_time": "2022-12-28T17:50:03.857108",
     "status": "completed"
    },
    "tags": []
   },
   "source": []
  },
  {
   "cell_type": "code",
   "execution_count": 42,
   "id": "432c5279",
   "metadata": {
    "execution": {
     "iopub.execute_input": "2022-12-28T17:50:03.916479Z",
     "iopub.status.busy": "2022-12-28T17:50:03.915871Z",
     "iopub.status.idle": "2022-12-28T17:50:03.922452Z",
     "shell.execute_reply": "2022-12-28T17:50:03.921342Z"
    },
    "papermill": {
     "duration": 0.029517,
     "end_time": "2022-12-28T17:50:03.925186",
     "exception": false,
     "start_time": "2022-12-28T17:50:03.895669",
     "status": "completed"
    },
    "tags": []
   },
   "outputs": [],
   "source": [
    "test.drop(['Sex','Embarked','Name','Ticket'],axis=1,inplace=True)"
   ]
  },
  {
   "cell_type": "code",
   "execution_count": 43,
   "id": "ea21b364",
   "metadata": {
    "execution": {
     "iopub.execute_input": "2022-12-28T17:50:03.965530Z",
     "iopub.status.busy": "2022-12-28T17:50:03.964883Z",
     "iopub.status.idle": "2022-12-28T17:50:03.971528Z",
     "shell.execute_reply": "2022-12-28T17:50:03.970651Z"
    },
    "papermill": {
     "duration": 0.029866,
     "end_time": "2022-12-28T17:50:03.974131",
     "exception": false,
     "start_time": "2022-12-28T17:50:03.944265",
     "status": "completed"
    },
    "tags": []
   },
   "outputs": [],
   "source": [
    "test = pd.concat([test,sex,embark],axis=1)"
   ]
  },
  {
   "cell_type": "code",
   "execution_count": 44,
   "id": "edcee346",
   "metadata": {
    "execution": {
     "iopub.execute_input": "2022-12-28T17:50:04.013368Z",
     "iopub.status.busy": "2022-12-28T17:50:04.012748Z",
     "iopub.status.idle": "2022-12-28T17:50:04.027960Z",
     "shell.execute_reply": "2022-12-28T17:50:04.026603Z"
    },
    "papermill": {
     "duration": 0.037809,
     "end_time": "2022-12-28T17:50:04.030513",
     "exception": false,
     "start_time": "2022-12-28T17:50:03.992704",
     "status": "completed"
    },
    "tags": []
   },
   "outputs": [
    {
     "data": {
      "text/html": [
       "<div>\n",
       "<style scoped>\n",
       "    .dataframe tbody tr th:only-of-type {\n",
       "        vertical-align: middle;\n",
       "    }\n",
       "\n",
       "    .dataframe tbody tr th {\n",
       "        vertical-align: top;\n",
       "    }\n",
       "\n",
       "    .dataframe thead th {\n",
       "        text-align: right;\n",
       "    }\n",
       "</style>\n",
       "<table border=\"1\" class=\"dataframe\">\n",
       "  <thead>\n",
       "    <tr style=\"text-align: right;\">\n",
       "      <th></th>\n",
       "      <th>PassengerId</th>\n",
       "      <th>Survived</th>\n",
       "      <th>Pclass</th>\n",
       "      <th>Age</th>\n",
       "      <th>SibSp</th>\n",
       "      <th>Parch</th>\n",
       "      <th>Fare</th>\n",
       "      <th>male</th>\n",
       "      <th>Q</th>\n",
       "      <th>S</th>\n",
       "    </tr>\n",
       "  </thead>\n",
       "  <tbody>\n",
       "    <tr>\n",
       "      <th>0</th>\n",
       "      <td>1</td>\n",
       "      <td>0</td>\n",
       "      <td>3</td>\n",
       "      <td>22.0</td>\n",
       "      <td>1</td>\n",
       "      <td>0</td>\n",
       "      <td>7.2500</td>\n",
       "      <td>1</td>\n",
       "      <td>0</td>\n",
       "      <td>1</td>\n",
       "    </tr>\n",
       "    <tr>\n",
       "      <th>1</th>\n",
       "      <td>2</td>\n",
       "      <td>1</td>\n",
       "      <td>1</td>\n",
       "      <td>38.0</td>\n",
       "      <td>1</td>\n",
       "      <td>0</td>\n",
       "      <td>71.2833</td>\n",
       "      <td>0</td>\n",
       "      <td>0</td>\n",
       "      <td>0</td>\n",
       "    </tr>\n",
       "    <tr>\n",
       "      <th>2</th>\n",
       "      <td>3</td>\n",
       "      <td>1</td>\n",
       "      <td>3</td>\n",
       "      <td>26.0</td>\n",
       "      <td>0</td>\n",
       "      <td>0</td>\n",
       "      <td>7.9250</td>\n",
       "      <td>0</td>\n",
       "      <td>0</td>\n",
       "      <td>1</td>\n",
       "    </tr>\n",
       "    <tr>\n",
       "      <th>3</th>\n",
       "      <td>4</td>\n",
       "      <td>1</td>\n",
       "      <td>1</td>\n",
       "      <td>35.0</td>\n",
       "      <td>1</td>\n",
       "      <td>0</td>\n",
       "      <td>53.1000</td>\n",
       "      <td>0</td>\n",
       "      <td>0</td>\n",
       "      <td>1</td>\n",
       "    </tr>\n",
       "    <tr>\n",
       "      <th>4</th>\n",
       "      <td>5</td>\n",
       "      <td>0</td>\n",
       "      <td>3</td>\n",
       "      <td>35.0</td>\n",
       "      <td>0</td>\n",
       "      <td>0</td>\n",
       "      <td>8.0500</td>\n",
       "      <td>1</td>\n",
       "      <td>0</td>\n",
       "      <td>1</td>\n",
       "    </tr>\n",
       "  </tbody>\n",
       "</table>\n",
       "</div>"
      ],
      "text/plain": [
       "   PassengerId  Survived  Pclass   Age  SibSp  Parch     Fare  male  Q  S\n",
       "0            1         0       3  22.0      1      0   7.2500     1  0  1\n",
       "1            2         1       1  38.0      1      0  71.2833     0  0  0\n",
       "2            3         1       3  26.0      0      0   7.9250     0  0  1\n",
       "3            4         1       1  35.0      1      0  53.1000     0  0  1\n",
       "4            5         0       3  35.0      0      0   8.0500     1  0  1"
      ]
     },
     "execution_count": 44,
     "metadata": {},
     "output_type": "execute_result"
    }
   ],
   "source": [
    "train.head()"
   ]
  },
  {
   "cell_type": "markdown",
   "id": "a5ef3b48",
   "metadata": {
    "papermill": {
     "duration": 0.018304,
     "end_time": "2022-12-28T17:50:04.067411",
     "exception": false,
     "start_time": "2022-12-28T17:50:04.049107",
     "status": "completed"
    },
    "tags": []
   },
   "source": [
    "## Predicting Test Data\n"
   ]
  },
  {
   "cell_type": "code",
   "execution_count": 45,
   "id": "899c22e3",
   "metadata": {
    "execution": {
     "iopub.execute_input": "2022-12-28T17:50:04.107626Z",
     "iopub.status.busy": "2022-12-28T17:50:04.106949Z",
     "iopub.status.idle": "2022-12-28T17:50:04.115671Z",
     "shell.execute_reply": "2022-12-28T17:50:04.114681Z"
    },
    "papermill": {
     "duration": 0.032047,
     "end_time": "2022-12-28T17:50:04.118146",
     "exception": false,
     "start_time": "2022-12-28T17:50:04.086099",
     "status": "completed"
    },
    "tags": []
   },
   "outputs": [],
   "source": [
    "test['predictions'] = logmodel.predict(test)"
   ]
  },
  {
   "cell_type": "code",
   "execution_count": 46,
   "id": "d828ae64",
   "metadata": {
    "execution": {
     "iopub.execute_input": "2022-12-28T17:50:04.158037Z",
     "iopub.status.busy": "2022-12-28T17:50:04.157090Z",
     "iopub.status.idle": "2022-12-28T17:50:04.176770Z",
     "shell.execute_reply": "2022-12-28T17:50:04.175440Z"
    },
    "papermill": {
     "duration": 0.042847,
     "end_time": "2022-12-28T17:50:04.179809",
     "exception": false,
     "start_time": "2022-12-28T17:50:04.136962",
     "status": "completed"
    },
    "tags": []
   },
   "outputs": [
    {
     "data": {
      "text/html": [
       "<div>\n",
       "<style scoped>\n",
       "    .dataframe tbody tr th:only-of-type {\n",
       "        vertical-align: middle;\n",
       "    }\n",
       "\n",
       "    .dataframe tbody tr th {\n",
       "        vertical-align: top;\n",
       "    }\n",
       "\n",
       "    .dataframe thead th {\n",
       "        text-align: right;\n",
       "    }\n",
       "</style>\n",
       "<table border=\"1\" class=\"dataframe\">\n",
       "  <thead>\n",
       "    <tr style=\"text-align: right;\">\n",
       "      <th></th>\n",
       "      <th>PassengerId</th>\n",
       "      <th>Pclass</th>\n",
       "      <th>Age</th>\n",
       "      <th>SibSp</th>\n",
       "      <th>Parch</th>\n",
       "      <th>Fare</th>\n",
       "      <th>male</th>\n",
       "      <th>Q</th>\n",
       "      <th>S</th>\n",
       "      <th>predictions</th>\n",
       "    </tr>\n",
       "  </thead>\n",
       "  <tbody>\n",
       "    <tr>\n",
       "      <th>0</th>\n",
       "      <td>892</td>\n",
       "      <td>3</td>\n",
       "      <td>34.5</td>\n",
       "      <td>0</td>\n",
       "      <td>0</td>\n",
       "      <td>7.8292</td>\n",
       "      <td>1</td>\n",
       "      <td>1</td>\n",
       "      <td>0</td>\n",
       "      <td>0</td>\n",
       "    </tr>\n",
       "    <tr>\n",
       "      <th>1</th>\n",
       "      <td>893</td>\n",
       "      <td>3</td>\n",
       "      <td>47.0</td>\n",
       "      <td>1</td>\n",
       "      <td>0</td>\n",
       "      <td>7.0000</td>\n",
       "      <td>0</td>\n",
       "      <td>0</td>\n",
       "      <td>1</td>\n",
       "      <td>0</td>\n",
       "    </tr>\n",
       "    <tr>\n",
       "      <th>2</th>\n",
       "      <td>894</td>\n",
       "      <td>2</td>\n",
       "      <td>62.0</td>\n",
       "      <td>0</td>\n",
       "      <td>0</td>\n",
       "      <td>9.6875</td>\n",
       "      <td>1</td>\n",
       "      <td>1</td>\n",
       "      <td>0</td>\n",
       "      <td>0</td>\n",
       "    </tr>\n",
       "    <tr>\n",
       "      <th>3</th>\n",
       "      <td>895</td>\n",
       "      <td>3</td>\n",
       "      <td>27.0</td>\n",
       "      <td>0</td>\n",
       "      <td>0</td>\n",
       "      <td>8.6625</td>\n",
       "      <td>1</td>\n",
       "      <td>0</td>\n",
       "      <td>1</td>\n",
       "      <td>0</td>\n",
       "    </tr>\n",
       "    <tr>\n",
       "      <th>4</th>\n",
       "      <td>896</td>\n",
       "      <td>3</td>\n",
       "      <td>22.0</td>\n",
       "      <td>1</td>\n",
       "      <td>1</td>\n",
       "      <td>12.2875</td>\n",
       "      <td>0</td>\n",
       "      <td>0</td>\n",
       "      <td>1</td>\n",
       "      <td>1</td>\n",
       "    </tr>\n",
       "    <tr>\n",
       "      <th>...</th>\n",
       "      <td>...</td>\n",
       "      <td>...</td>\n",
       "      <td>...</td>\n",
       "      <td>...</td>\n",
       "      <td>...</td>\n",
       "      <td>...</td>\n",
       "      <td>...</td>\n",
       "      <td>...</td>\n",
       "      <td>...</td>\n",
       "      <td>...</td>\n",
       "    </tr>\n",
       "    <tr>\n",
       "      <th>413</th>\n",
       "      <td>1305</td>\n",
       "      <td>3</td>\n",
       "      <td>25.0</td>\n",
       "      <td>0</td>\n",
       "      <td>0</td>\n",
       "      <td>8.0500</td>\n",
       "      <td>1</td>\n",
       "      <td>0</td>\n",
       "      <td>1</td>\n",
       "      <td>0</td>\n",
       "    </tr>\n",
       "    <tr>\n",
       "      <th>414</th>\n",
       "      <td>1306</td>\n",
       "      <td>1</td>\n",
       "      <td>39.0</td>\n",
       "      <td>0</td>\n",
       "      <td>0</td>\n",
       "      <td>108.9000</td>\n",
       "      <td>0</td>\n",
       "      <td>0</td>\n",
       "      <td>0</td>\n",
       "      <td>1</td>\n",
       "    </tr>\n",
       "    <tr>\n",
       "      <th>415</th>\n",
       "      <td>1307</td>\n",
       "      <td>3</td>\n",
       "      <td>38.5</td>\n",
       "      <td>0</td>\n",
       "      <td>0</td>\n",
       "      <td>7.2500</td>\n",
       "      <td>1</td>\n",
       "      <td>0</td>\n",
       "      <td>1</td>\n",
       "      <td>0</td>\n",
       "    </tr>\n",
       "    <tr>\n",
       "      <th>416</th>\n",
       "      <td>1308</td>\n",
       "      <td>3</td>\n",
       "      <td>25.0</td>\n",
       "      <td>0</td>\n",
       "      <td>0</td>\n",
       "      <td>8.0500</td>\n",
       "      <td>1</td>\n",
       "      <td>0</td>\n",
       "      <td>1</td>\n",
       "      <td>0</td>\n",
       "    </tr>\n",
       "    <tr>\n",
       "      <th>417</th>\n",
       "      <td>1309</td>\n",
       "      <td>3</td>\n",
       "      <td>25.0</td>\n",
       "      <td>1</td>\n",
       "      <td>1</td>\n",
       "      <td>22.3583</td>\n",
       "      <td>1</td>\n",
       "      <td>0</td>\n",
       "      <td>0</td>\n",
       "      <td>0</td>\n",
       "    </tr>\n",
       "  </tbody>\n",
       "</table>\n",
       "<p>417 rows × 10 columns</p>\n",
       "</div>"
      ],
      "text/plain": [
       "     PassengerId  Pclass   Age  SibSp  Parch      Fare  male  Q  S  \\\n",
       "0            892       3  34.5      0      0    7.8292     1  1  0   \n",
       "1            893       3  47.0      1      0    7.0000     0  0  1   \n",
       "2            894       2  62.0      0      0    9.6875     1  1  0   \n",
       "3            895       3  27.0      0      0    8.6625     1  0  1   \n",
       "4            896       3  22.0      1      1   12.2875     0  0  1   \n",
       "..           ...     ...   ...    ...    ...       ...   ... .. ..   \n",
       "413         1305       3  25.0      0      0    8.0500     1  0  1   \n",
       "414         1306       1  39.0      0      0  108.9000     0  0  0   \n",
       "415         1307       3  38.5      0      0    7.2500     1  0  1   \n",
       "416         1308       3  25.0      0      0    8.0500     1  0  1   \n",
       "417         1309       3  25.0      1      1   22.3583     1  0  0   \n",
       "\n",
       "     predictions  \n",
       "0              0  \n",
       "1              0  \n",
       "2              0  \n",
       "3              0  \n",
       "4              1  \n",
       "..           ...  \n",
       "413            0  \n",
       "414            1  \n",
       "415            0  \n",
       "416            0  \n",
       "417            0  \n",
       "\n",
       "[417 rows x 10 columns]"
      ]
     },
     "execution_count": 46,
     "metadata": {},
     "output_type": "execute_result"
    }
   ],
   "source": [
    "test"
   ]
  },
  {
   "cell_type": "code",
   "execution_count": 47,
   "id": "7629b8d1",
   "metadata": {
    "execution": {
     "iopub.execute_input": "2022-12-28T17:50:04.220753Z",
     "iopub.status.busy": "2022-12-28T17:50:04.220096Z",
     "iopub.status.idle": "2022-12-28T17:50:04.226923Z",
     "shell.execute_reply": "2022-12-28T17:50:04.225812Z"
    },
    "papermill": {
     "duration": 0.030134,
     "end_time": "2022-12-28T17:50:04.229629",
     "exception": false,
     "start_time": "2022-12-28T17:50:04.199495",
     "status": "completed"
    },
    "tags": []
   },
   "outputs": [],
   "source": [
    "to_submit = test[['PassengerId','predictions']]"
   ]
  },
  {
   "cell_type": "code",
   "execution_count": 48,
   "id": "367dde60",
   "metadata": {
    "execution": {
     "iopub.execute_input": "2022-12-28T17:50:04.271955Z",
     "iopub.status.busy": "2022-12-28T17:50:04.271505Z",
     "iopub.status.idle": "2022-12-28T17:50:04.279935Z",
     "shell.execute_reply": "2022-12-28T17:50:04.278841Z"
    },
    "papermill": {
     "duration": 0.033285,
     "end_time": "2022-12-28T17:50:04.282839",
     "exception": false,
     "start_time": "2022-12-28T17:50:04.249554",
     "status": "completed"
    },
    "tags": []
   },
   "outputs": [],
   "source": [
    "to_submit.to_csv(\"submission.csv\", index = False)"
   ]
  },
  {
   "cell_type": "markdown",
   "id": "b67178ec",
   "metadata": {
    "papermill": {
     "duration": 0.019034,
     "end_time": "2022-12-28T17:50:04.321196",
     "exception": false,
     "start_time": "2022-12-28T17:50:04.302162",
     "status": "completed"
    },
    "tags": []
   },
   "source": []
  }
 ],
 "metadata": {
  "kernelspec": {
   "display_name": "Python 3",
   "language": "python",
   "name": "python3"
  },
  "language_info": {
   "codemirror_mode": {
    "name": "ipython",
    "version": 3
   },
   "file_extension": ".py",
   "mimetype": "text/x-python",
   "name": "python",
   "nbconvert_exporter": "python",
   "pygments_lexer": "ipython3",
   "version": "3.7.12"
  },
  "papermill": {
   "default_parameters": {},
   "duration": 17.029488,
   "end_time": "2022-12-28T17:50:05.162949",
   "environment_variables": {},
   "exception": null,
   "input_path": "__notebook__.ipynb",
   "output_path": "__notebook__.ipynb",
   "parameters": {},
   "start_time": "2022-12-28T17:49:48.133461",
   "version": "2.3.4"
  }
 },
 "nbformat": 4,
 "nbformat_minor": 5
}
